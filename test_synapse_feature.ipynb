{
 "cells": [
  {
   "cell_type": "code",
   "execution_count": 1,
   "metadata": {},
   "outputs": [],
   "source": [
    "from meshparty import meshwork\n",
    "import pandas as pd\n",
    "import pcg_skel"
   ]
  },
  {
   "cell_type": "code",
   "execution_count": 12,
   "metadata": {},
   "outputs": [],
   "source": [
    "from caveclient import CAVEclient\n",
    "client = CAVEclient('minnie65_phase3_v1')"
   ]
  },
  {
   "cell_type": "code",
   "execution_count": 14,
   "metadata": {},
   "outputs": [
    {
     "data": {
      "text/plain": [
       "<Version('2.17.2')>"
      ]
     },
     "execution_count": 14,
     "metadata": {},
     "output_type": "execute_result"
    }
   ],
   "source": [
    "client.chunkedgraph.server_version"
   ]
  },
  {
   "cell_type": "code",
   "execution_count": 2,
   "metadata": {},
   "outputs": [],
   "source": [
    "skdir = '/Users/caseysm/Work/Projects/pt_targets/skeletons'\n",
    "root_id = 864691135273655569\n",
    "\n",
    "nrn = meshwork.load_meshwork(\n",
    "    f\"{skdir}/{root_id}.h5\"\n",
    ")"
   ]
  },
  {
   "cell_type": "code",
   "execution_count": null,
   "metadata": {},
   "outputs": [],
   "source": []
  },
  {
   "cell_type": "code",
   "execution_count": 3,
   "metadata": {},
   "outputs": [],
   "source": [
    "pcg_skel.features.add_synapse_count(\n",
    "    nrn,\n",
    ")"
   ]
  },
  {
   "cell_type": "code",
   "execution_count": 9,
   "metadata": {},
   "outputs": [],
   "source": [
    "nrn.save_meshwork(\"tests/data/test_neuron.h\")"
   ]
  },
  {
   "cell_type": "code",
   "execution_count": 10,
   "metadata": {},
   "outputs": [
    {
     "ename": "NameError",
     "evalue": "name 'client' is not defined",
     "output_type": "error",
     "traceback": [
      "\u001b[0;31m---------------------------------------------------------------------------\u001b[0m",
      "\u001b[0;31mNameError\u001b[0m                                 Traceback (most recent call last)",
      "Cell \u001b[0;32mIn[10], line 1\u001b[0m\n\u001b[0;32m----> 1\u001b[0m \u001b[43mclient\u001b[49m\u001b[38;5;241m.\u001b[39mmaterialize\u001b[38;5;241m.\u001b[39mserver_version\n",
      "\u001b[0;31mNameError\u001b[0m: name 'client' is not defined"
     ]
    }
   ],
   "source": [
    "client.materialize."
   ]
  },
  {
   "cell_type": "code",
   "execution_count": 4,
   "metadata": {},
   "outputs": [
    {
     "data": {
      "text/html": [
       "<div>\n",
       "<style scoped>\n",
       "    .dataframe tbody tr th:only-of-type {\n",
       "        vertical-align: middle;\n",
       "    }\n",
       "\n",
       "    .dataframe tbody tr th {\n",
       "        vertical-align: top;\n",
       "    }\n",
       "\n",
       "    .dataframe thead th {\n",
       "        text-align: right;\n",
       "    }\n",
       "</style>\n",
       "<table border=\"1\" class=\"dataframe\">\n",
       "  <thead>\n",
       "    <tr style=\"text-align: right;\">\n",
       "      <th></th>\n",
       "      <th>mesh_index</th>\n",
       "      <th>num_syn_out</th>\n",
       "      <th>net_size_out</th>\n",
       "      <th>num_syn_in</th>\n",
       "      <th>net_size_in</th>\n",
       "      <th>mesh_index_filt</th>\n",
       "    </tr>\n",
       "  </thead>\n",
       "  <tbody>\n",
       "    <tr>\n",
       "      <th>0</th>\n",
       "      <td>0</td>\n",
       "      <td>0</td>\n",
       "      <td>0.0</td>\n",
       "      <td>0</td>\n",
       "      <td>0.0</td>\n",
       "      <td>0</td>\n",
       "    </tr>\n",
       "    <tr>\n",
       "      <th>1</th>\n",
       "      <td>1</td>\n",
       "      <td>0</td>\n",
       "      <td>0.0</td>\n",
       "      <td>0</td>\n",
       "      <td>0.0</td>\n",
       "      <td>1</td>\n",
       "    </tr>\n",
       "    <tr>\n",
       "      <th>2</th>\n",
       "      <td>2</td>\n",
       "      <td>2</td>\n",
       "      <td>37144.0</td>\n",
       "      <td>1</td>\n",
       "      <td>916.0</td>\n",
       "      <td>2</td>\n",
       "    </tr>\n",
       "    <tr>\n",
       "      <th>3</th>\n",
       "      <td>3</td>\n",
       "      <td>0</td>\n",
       "      <td>0.0</td>\n",
       "      <td>0</td>\n",
       "      <td>0.0</td>\n",
       "      <td>3</td>\n",
       "    </tr>\n",
       "    <tr>\n",
       "      <th>4</th>\n",
       "      <td>4</td>\n",
       "      <td>0</td>\n",
       "      <td>0.0</td>\n",
       "      <td>0</td>\n",
       "      <td>0.0</td>\n",
       "      <td>4</td>\n",
       "    </tr>\n",
       "  </tbody>\n",
       "</table>\n",
       "</div>"
      ],
      "text/plain": [
       "   mesh_index  num_syn_out  net_size_out  num_syn_in  net_size_in  \\\n",
       "0           0            0           0.0           0          0.0   \n",
       "1           1            0           0.0           0          0.0   \n",
       "2           2            2       37144.0           1        916.0   \n",
       "3           3            0           0.0           0          0.0   \n",
       "4           4            0           0.0           0          0.0   \n",
       "\n",
       "   mesh_index_filt  \n",
       "0                0  \n",
       "1                1  \n",
       "2                2  \n",
       "3                3  \n",
       "4                4  "
      ]
     },
     "execution_count": 4,
     "metadata": {},
     "output_type": "execute_result"
    }
   ],
   "source": [
    "nrn.anno.synapse_count.df.head()"
   ]
  },
  {
   "cell_type": "code",
   "execution_count": 8,
   "metadata": {},
   "outputs": [],
   "source": [
    "skel_df = pcg_skel.features.aggregate_property_to_skeleton(\n",
    "    nrn,\n",
    "    anno_table='synapse_count',\n",
    "    agg_dict={\n",
    "        'num_syn_out': 'sum',\n",
    "        'num_syn_in': 'sum',\n",
    "        'net_size_out': 'sum',\n",
    "        'net_size_in': 'sum',\n",
    "    },\n",
    ")"
   ]
  },
  {
   "cell_type": "code",
   "execution_count": 13,
   "metadata": {},
   "outputs": [
    {
     "data": {
      "text/plain": [
       "num_syn_out           585.0\n",
       "num_syn_in          11823.0\n",
       "net_size_out      5157480.0\n",
       "net_size_in     104518760.0\n",
       "dtype: float64"
      ]
     },
     "execution_count": 13,
     "metadata": {},
     "output_type": "execute_result"
    }
   ],
   "source": [
    "nrn.anno['synapse_count'].df[['num_syn_out', 'num_syn_in', 'net_size_out', 'net_size_in']].sum()"
   ]
  },
  {
   "cell_type": "code",
   "execution_count": 32,
   "metadata": {},
   "outputs": [
    {
     "data": {
      "text/plain": [
       "{'net_size_in', 'net_size_out', 'num_syn_in', 'num_syn_out'}"
      ]
     },
     "execution_count": 32,
     "metadata": {},
     "output_type": "execute_result"
    }
   ],
   "source": [
    "set(nrn.anno.synapse_count._original_columns).difference(\n",
    "    set([nrn.anno.synapse_count.index_column_original]),\n",
    ") "
   ]
  },
  {
   "cell_type": "code",
   "execution_count": 31,
   "metadata": {},
   "outputs": [
    {
     "data": {
      "text/plain": [
       "{'net_size_in', 'net_size_out', 'num_syn_in', 'num_syn_out'}"
      ]
     },
     "execution_count": 31,
     "metadata": {},
     "output_type": "execute_result"
    }
   ],
   "source": [
    "set(nrn.anno.synapse_count._original_columns).difference({'mesh_index'})"
   ]
  },
  {
   "cell_type": "code",
   "execution_count": 29,
   "metadata": {},
   "outputs": [
    {
     "data": {
      "text/plain": [
       "{2, 3}"
      ]
     },
     "execution_count": 29,
     "metadata": {},
     "output_type": "execute_result"
    }
   ],
   "source": [
    "set([1,2,3]).difference({1})"
   ]
  },
  {
   "cell_type": "code",
   "execution_count": 14,
   "metadata": {},
   "outputs": [
    {
     "data": {
      "text/plain": [
       "num_syn_out           585.0\n",
       "num_syn_in          11823.0\n",
       "net_size_out      5157480.0\n",
       "net_size_in     104518760.0\n",
       "dtype: float64"
      ]
     },
     "execution_count": 14,
     "metadata": {},
     "output_type": "execute_result"
    }
   ],
   "source": [
    "skel_df.sum()"
   ]
  },
  {
   "cell_type": "code",
   "execution_count": null,
   "metadata": {},
   "outputs": [],
   "source": [
    "nrn.anno.synapse_count.df"
   ]
  },
  {
   "cell_type": "code",
   "execution_count": 6,
   "metadata": {},
   "outputs": [],
   "source": [
    "syn_df = nrn.anno.synapse_count.df"
   ]
  },
  {
   "cell_type": "code",
   "execution_count": 8,
   "metadata": {},
   "outputs": [],
   "source": [
    "syn_df['skel_index'] = nrn.anno.synapse_count.mesh_index.to_skel_index_padded"
   ]
  },
  {
   "cell_type": "code",
   "execution_count": 10,
   "metadata": {},
   "outputs": [],
   "source": [
    "skel_syn_df = syn_df.groupby('skel_index').sum()[['num_syn_in', 'num_syn_out', 'net_size_in', 'net_size_out']]"
   ]
  },
  {
   "cell_type": "code",
   "execution_count": 13,
   "metadata": {},
   "outputs": [],
   "source": [
    "skel_syn_df['mean_syn_in'] = (skel_syn_df['net_size_in'] / skel_syn_df['num_syn_in']).fillna(0)\n",
    "skel_syn_df['mean_syn_out'] = (skel_syn_df['net_size_out'] / skel_syn_df['num_syn_out']).fillna(0)"
   ]
  },
  {
   "cell_type": "code",
   "execution_count": 26,
   "metadata": {},
   "outputs": [],
   "source": [
    "import numpy as np"
   ]
  },
  {
   "cell_type": "code",
   "execution_count": null,
   "metadata": {},
   "outputs": [],
   "source": [
    "nrn.skeleton.n_vertices"
   ]
  },
  {
   "cell_type": "code",
   "execution_count": 26,
   "metadata": {},
   "outputs": [],
   "source": [
    "from caveclient import CAVEclient\n",
    "client = CAVEclient('minnie65_phase3_v1')"
   ]
  },
  {
   "cell_type": "code",
   "execution_count": null,
   "metadata": {},
   "outputs": [],
   "source": [
    "np.arange(0,10)"
   ]
  },
  {
   "cell_type": "code",
   "execution_count": 79,
   "metadata": {},
   "outputs": [],
   "source": [
    "import numpy as np"
   ]
  },
  {
   "cell_type": "code",
   "execution_count": 57,
   "metadata": {},
   "outputs": [],
   "source": [
    "syn_count_df = pd.DataFrame(\n",
    "    index=nrn.mesh_indices\n",
    ")\n",
    "syn_out_df = nrn.anno.pre_syn.df.groupby('pre_pt_mesh_ind').agg(\n",
    "    num_syn_out=pd.NamedAgg('id', 'count'),\n",
    "    mean_size_out=pd.NamedAgg('size', 'mean'),\n",
    ")\n",
    "\n",
    "syn_in_df = nrn.anno.post_syn.df.groupby('post_pt_mesh_ind').agg(\n",
    "    num_syn_in=pd.NamedAgg('id', 'count'),\n",
    "    mean_size_in=pd.NamedAgg('size', 'mean'),\n",
    ")\n",
    "\n",
    "syn_count_df = syn_count_df.merge(\n",
    "    syn_out_df,\n",
    "    left_index=True,\n",
    "    right_index=True,\n",
    "    how='left',\n",
    ").merge(\n",
    "    syn_in_df,\n",
    "    left_index=True,\n",
    "    right_index=True,\n",
    "    how='left',\n",
    ").fillna(0)\n",
    "\n",
    "syn_count_df['num_syn_out'] = syn_count_df['num_syn_out'].astype(int)\n",
    "syn_count_df['num_syn_in'] = syn_count_df['num_syn_in'].astype(int)\n",
    "syn_count_df = syn_count_df.reset_index()\n",
    "\n",
    "nrn.anno.add_annotations(\n",
    "    'syn_count',\n",
    "    syn_count_df,\n",
    "    index_column='index',\n",
    ")"
   ]
  },
  {
   "cell_type": "code",
   "execution_count": null,
   "metadata": {},
   "outputs": [],
   "source": [
    "nrn.skeleton.mesh_to_skel_map"
   ]
  },
  {
   "cell_type": "code",
   "execution_count": 89,
   "metadata": {},
   "outputs": [],
   "source": [
    "syn_count_df = nrn.anno.syn_count.df\n",
    "syn_count_df['skel_index'] = nrn.skeleton.mesh_to_skel_map\n"
   ]
  },
  {
   "cell_type": "code",
   "execution_count": null,
   "metadata": {},
   "outputs": [],
   "source": [
    "nrn.anno.synapse_count.index_column_original"
   ]
  },
  {
   "cell_type": "code",
   "execution_count": null,
   "metadata": {},
   "outputs": [],
   "source": [
    "client.materialize.tables.nucleus_detection_v0(pt_root_id=864691135464946757).query()"
   ]
  },
  {
   "cell_type": "code",
   "execution_count": 94,
   "metadata": {},
   "outputs": [],
   "source": [
    "qry = client.materialize.tables.nucleus_detection_v0(pt_root_id=864691135464946757)"
   ]
  },
  {
   "cell_type": "code",
   "execution_count": null,
   "metadata": {},
   "outputs": [],
   "source": [
    "qry.query(split_positions=True)"
   ]
  },
  {
   "cell_type": "code",
   "execution_count": null,
   "metadata": {},
   "outputs": [],
   "source": [
    "client.materialize.query_table(\n",
    "    \"nucleus_detection_v0\",\n",
    "    **qry.filter_kwargs_mat\n",
    ")"
   ]
  },
  {
   "cell_type": "code",
   "execution_count": null,
   "metadata": {},
   "outputs": [],
   "source": []
  },
  {
   "cell_type": "code",
   "execution_count": null,
   "metadata": {},
   "outputs": [],
   "source": [
    "qry.filter_kwargs_mat"
   ]
  },
  {
   "cell_type": "code",
   "execution_count": null,
   "metadata": {},
   "outputs": [],
   "source": []
  },
  {
   "cell_type": "code",
   "execution_count": 72,
   "metadata": {},
   "outputs": [],
   "source": [
    "with nrn.mask_context( nrn.anno.is_axon.mesh_mask):\n",
    "    df = nrn.anno.syn_count.df"
   ]
  },
  {
   "cell_type": "code",
   "execution_count": null,
   "metadata": {},
   "outputs": [],
   "source": [
    "df.num_syn_out.sum()"
   ]
  },
  {
   "cell_type": "code",
   "execution_count": null,
   "metadata": {},
   "outputs": [],
   "source": [
    "df.num_syn_in.sum()"
   ]
  },
  {
   "cell_type": "code",
   "execution_count": null,
   "metadata": {},
   "outputs": [],
   "source": []
  }
 ],
 "metadata": {
  "kernelspec": {
   "display_name": "pcg-skel",
   "language": "python",
   "name": "python3"
  },
  "language_info": {
   "codemirror_mode": {
    "name": "ipython",
    "version": 3
   },
   "file_extension": ".py",
   "mimetype": "text/x-python",
   "name": "python",
   "nbconvert_exporter": "python",
   "pygments_lexer": "ipython3",
   "version": "3.12.0"
  }
 },
 "nbformat": 4,
 "nbformat_minor": 2
}
